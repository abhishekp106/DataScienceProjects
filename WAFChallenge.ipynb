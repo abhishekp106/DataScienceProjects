{
 "cells": [
  {
   "cell_type": "code",
   "execution_count": 0,
   "metadata": {
    "colab": {},
    "colab_type": "code",
    "id": "hWTokfjkrFex"
   },
   "outputs": [],
   "source": [
    "# https://buomsoo-kim.github.io/colab/2018/04/16/Importing-files-from-Google-Drive-in-Google-Colab.md/\n",
    "\n",
    "!pip install PyDrive"
   ]
  },
  {
   "cell_type": "code",
   "execution_count": 0,
   "metadata": {
    "colab": {},
    "colab_type": "code",
    "id": "Ohxlg-vWwdVA"
   },
   "outputs": [],
   "source": [
    "from pydrive.auth import GoogleAuth\n",
    "from pydrive.drive import GoogleDrive\n",
    "from google.colab import auth\n",
    "from oauth2client.client import GoogleCredentials\n"
   ]
  },
  {
   "cell_type": "code",
   "execution_count": 0,
   "metadata": {
    "colab": {},
    "colab_type": "code",
    "id": "tmW0e1P2winv"
   },
   "outputs": [],
   "source": [
    "auth.authenticate_user()\n",
    "gauth = GoogleAuth()\n",
    "gauth.credentials = GoogleCredentials.get_application_default()\n",
    "drive = GoogleDrive(gauth)\n"
   ]
  },
  {
   "cell_type": "code",
   "execution_count": 0,
   "metadata": {
    "colab": {},
    "colab_type": "code",
    "id": "AGX9wC7QwlP5"
   },
   "outputs": [],
   "source": [
    "downloaded = drive.CreateFile({'id':\"1nbOaQv3boOG5bsFybrInI8cZLsAHLf2m\"})   # replace the id with id of file you want to access\n",
    "downloaded.GetContentFile('USvideos.csv')        # replace the file name with your file\n"
   ]
  },
  {
   "cell_type": "code",
   "execution_count": 0,
   "metadata": {
    "colab": {},
    "colab_type": "code",
    "id": "dvhxQXowxuil"
   },
   "outputs": [],
   "source": [
    "import pandas as pd\n",
    "import numpy as np\n",
    "from matplotlib import pyplot as plt\n",
    "import matplotlib.cm as cm\n",
    "from sklearn.feature_extraction.text import TfidfVectorizer\n",
    "from sklearn.cluster import KMeans\n",
    "from sklearn.cluster import MiniBatchKMeans\n",
    "from sklearn.decomposition import PCA\n",
    "from sklearn.manifold import TSNE\n",
    "\n",
    "data = pd.read_csv('USvideos.csv')"
   ]
  },
  {
   "cell_type": "code",
   "execution_count": 0,
   "metadata": {
    "colab": {
     "base_uri": "https://localhost:8080/",
     "height": 204
    },
    "colab_type": "code",
    "id": "t3AZkIYtxyr3",
    "outputId": "5958383b-56cf-446e-8c0e-0ab0b0d92066"
   },
   "outputs": [
    {
     "data": {
      "text/html": [
       "<div>\n",
       "<style scoped>\n",
       "    .dataframe tbody tr th:only-of-type {\n",
       "        vertical-align: middle;\n",
       "    }\n",
       "\n",
       "    .dataframe tbody tr th {\n",
       "        vertical-align: top;\n",
       "    }\n",
       "\n",
       "    .dataframe thead th {\n",
       "        text-align: right;\n",
       "    }\n",
       "</style>\n",
       "<table border=\"1\" class=\"dataframe\">\n",
       "  <thead>\n",
       "    <tr style=\"text-align: right;\">\n",
       "      <th></th>\n",
       "      <th>title</th>\n",
       "      <th>cleaned_tags</th>\n",
       "      <th>views</th>\n",
       "      <th>likes</th>\n",
       "      <th>description</th>\n",
       "    </tr>\n",
       "  </thead>\n",
       "  <tbody>\n",
       "    <tr>\n",
       "      <th>0</th>\n",
       "      <td>WE WANT TO TALK ABOUT OUR MARRIAGE</td>\n",
       "      <td>shantell martin</td>\n",
       "      <td>748374</td>\n",
       "      <td>57527</td>\n",
       "      <td>SHANTELL'S CHANNEL - https://www.youtube.com/s...</td>\n",
       "    </tr>\n",
       "    <tr>\n",
       "      <th>1</th>\n",
       "      <td>The Trump Presidency: Last Week Tonight with J...</td>\n",
       "      <td>last week tonight trump presidency last week t...</td>\n",
       "      <td>2418783</td>\n",
       "      <td>97185</td>\n",
       "      <td>One year after the presidential election, John...</td>\n",
       "    </tr>\n",
       "    <tr>\n",
       "      <th>2</th>\n",
       "      <td>Racist Superman | Rudy Mancuso, King Bach &amp; Le...</td>\n",
       "      <td>racist superman rudy mancuso king bach racist ...</td>\n",
       "      <td>3191434</td>\n",
       "      <td>146033</td>\n",
       "      <td>WATCH MY PREVIOUS VIDEO ▶ \\n\\nSUBSCRIBE ► http...</td>\n",
       "    </tr>\n",
       "    <tr>\n",
       "      <th>3</th>\n",
       "      <td>Nickelback Lyrics: Real or Fake?</td>\n",
       "      <td>rhett and link gmm good mythical morning rhett...</td>\n",
       "      <td>343168</td>\n",
       "      <td>10172</td>\n",
       "      <td>Today we find out if Link is a Nickelback amat...</td>\n",
       "    </tr>\n",
       "    <tr>\n",
       "      <th>4</th>\n",
       "      <td>I Dare You: GOING BALD!?</td>\n",
       "      <td>ryan higa higatv nigahiga i dare you idy rhpc ...</td>\n",
       "      <td>2095731</td>\n",
       "      <td>132235</td>\n",
       "      <td>I know it's been a while since we did this sho...</td>\n",
       "    </tr>\n",
       "  </tbody>\n",
       "</table>\n",
       "</div>"
      ],
      "text/plain": [
       "                                               title  ...                                        description\n",
       "0                 WE WANT TO TALK ABOUT OUR MARRIAGE  ...  SHANTELL'S CHANNEL - https://www.youtube.com/s...\n",
       "1  The Trump Presidency: Last Week Tonight with J...  ...  One year after the presidential election, John...\n",
       "2  Racist Superman | Rudy Mancuso, King Bach & Le...  ...  WATCH MY PREVIOUS VIDEO ▶ \\n\\nSUBSCRIBE ► http...\n",
       "3                   Nickelback Lyrics: Real or Fake?  ...  Today we find out if Link is a Nickelback amat...\n",
       "4                           I Dare You: GOING BALD!?  ...  I know it's been a while since we did this sho...\n",
       "\n",
       "[5 rows x 5 columns]"
      ]
     },
     "execution_count": 167,
     "metadata": {
      "tags": []
     },
     "output_type": "execute_result"
    }
   ],
   "source": [
    "data.head()"
   ]
  },
  {
   "cell_type": "code",
   "execution_count": 0,
   "metadata": {
    "colab": {},
    "colab_type": "code",
    "id": "PMqPiWktbtHw"
   },
   "outputs": [],
   "source": [
    "def clean_row(row):\n",
    "  row = row.casefold()\n",
    "  row = row.replace('|',\" \")\n",
    "  return row.replace('\\\"',\"\")\n",
    "\n",
    "data['cleaned_tags'] = data['tags'].apply(lambda row: clean_row(row))\n",
    "data = data[['title', 'cleaned_tags','views', 'likes', 'description']]\n",
    "\n",
    "data = data[data['cleaned_tags'] != '[none]']  "
   ]
  },
  {
   "cell_type": "code",
   "execution_count": 0,
   "metadata": {
    "colab": {},
    "colab_type": "code",
    "id": "aE7vBFBIa3XP"
   },
   "outputs": [],
   "source": [
    "# extract a vector form of the text\n",
    "\n",
    "tfidf_cleaned_tags = TfidfVectorizer(\n",
    "    min_df = 5,\n",
    "    max_df = 0.95,\n",
    "    max_features = 1000,\n",
    "    stop_words = 'english'\n",
    ")\n",
    "tfidf_cleaned_tags.fit(data.cleaned_tags)\n",
    "text_cleaned_tags = tfidf_cleaned_tags.transform(data.cleaned_tags)"
   ]
  },
  {
   "cell_type": "code",
   "execution_count": 0,
   "metadata": {
    "colab": {
     "base_uri": "https://localhost:8080/",
     "height": 465
    },
    "colab_type": "code",
    "id": "rJDy-zvCrSIl",
    "outputId": "dba863f8-0f8b-4033-b8eb-b5f39d7a3cbe"
   },
   "outputs": [
    {
     "name": "stdout",
     "output_type": "stream",
     "text": [
      "Fit 2 clusters\n",
      "Fit 4 clusters\n",
      "Fit 6 clusters\n",
      "Fit 8 clusters\n",
      "Fit 10 clusters\n",
      "Fit 12 clusters\n",
      "Fit 14 clusters\n",
      "Fit 16 clusters\n",
      "Fit 18 clusters\n",
      "Fit 20 clusters\n"
     ]
    },
    {
     "data": {
      "image/png": "[encoded data removed]",
      "text/plain": [
       "<Figure size 432x288 with 1 Axes>"
      ]
     },
     "metadata": {
      "tags": []
     },
     "output_type": "display_data"
    }
   ],
   "source": [
    "def find_optimal_clusters(data, max_k):\n",
    "    iters = range(2, max_k+1, 2)\n",
    "    \n",
    "    sse = []\n",
    "    for k in iters:\n",
    "        sse.append(MiniBatchKMeans(n_clusters=k, init_size=1024, batch_size=2048, random_state=20).fit(data).inertia_)\n",
    "        print('Fit {} clusters'.format(k))\n",
    "        \n",
    "    f, ax = plt.subplots(1, 1)\n",
    "    ax.plot(iters, sse, marker='o')\n",
    "    ax.set_xlabel('Cluster Centers')\n",
    "    ax.set_xticks(iters)\n",
    "    ax.set_xticklabels(iters)\n",
    "    ax.set_ylabel('SSE')\n",
    "    ax.set_title('SSE by Cluster Center Plot')\n",
    "    \n",
    "find_optimal_clusters(text_cleaned_tags, 20)\n"
   ]
  },
  {
   "cell_type": "code",
   "execution_count": 0,
   "metadata": {
    "colab": {},
    "colab_type": "code",
    "id": "apEhDmg_rc9X"
   },
   "outputs": [],
   "source": [
    "clusters = KMeans(n_clusters=20)\n",
    "cluster_array = clusters.fit_predict(text_cleaned_tags)"
   ]
  },
  {
   "cell_type": "code",
   "execution_count": 0,
   "metadata": {
    "colab": {},
    "colab_type": "code",
    "id": "leJFH39TNKXH"
   },
   "outputs": [],
   "source": [
    "def plot_tsne_pca(data, labels):\n",
    "    max_label = max(labels)\n",
    "    max_items = np.random.choice(range(data.shape[0]), size=3000, replace=False)\n",
    "    \n",
    "    pca = PCA(n_components=2).fit_transform(data[max_items,:].todense())\n",
    "    tsne = TSNE().fit_transform(PCA(n_components=1000).fit_transform(data[max_items,:].todense()))\n",
    "    \n",
    "    \n",
    "    idx = np.random.choice(range(pca.shape[0]), size=300, replace=False)\n",
    "    label_subset = labels[max_items]\n",
    "    label_subset = [cm.hsv(i/max_label) for i in label_subset[idx]]\n",
    "    \n",
    "    f, ax = plt.subplots(1, 2, figsize=(14, 6))\n",
    "    \n",
    "    ax[0].scatter(pca[idx, 0], pca[idx, 1], c=label_subset)\n",
    "    ax[0].set_title('PCA Cluster Plot')\n",
    "    \n",
    "    ax[1].scatter(tsne[idx, 0], tsne[idx, 1], c=label_subset)\n",
    "    ax[1].set_title('TSNE Cluster Plot')\n",
    "    \n",
    "plot_tsne_pca(text_cleaned_tags, cluster_array)"
   ]
  },
  {
   "cell_type": "code",
   "execution_count": 0,
   "metadata": {
    "colab": {
     "base_uri": "https://localhost:8080/",
     "height": 1000
    },
    "colab_type": "code",
    "id": "ksh_1nyHNLGW",
    "outputId": "436d6362-0c83-44a2-fa5e-ab4331c87ceb"
   },
   "outputs": [
    {
     "name": "stdout",
     "output_type": "stream",
     "text": [
      "\n",
      "Cluster 0\n",
      "christmas,love,react,live,video,new,animation,vlog,diy,funny\n",
      "\n",
      "Cluster 1\n",
      "gossip,video,breaking,kardashian,politics,celebrity,latest,cnn,cbs,news\n",
      "\n",
      "Cluster 2\n",
      "year,oscars,winter,funny,new,2017,sports,olympics,best,2018\n",
      "\n",
      "Cluster 3\n",
      "fox,ti,raw,solo,wwe,00,jedi,sp,wars,star\n",
      "\n",
      "Cluster 4\n",
      "seth,fallon,rhett,link,nbc,night,sketch,snl,funny,comedy\n",
      "\n",
      "Cluster 5\n",
      "kylie,james,review,charles,drugstore,face,cosmetics,beauty,tutorial,makeup\n",
      "\n",
      "Cluster 6\n",
      "cinema,disney,movies,teaser,review,trailers,official,film,trailer,movie\n",
      "\n",
      "Cluster 7\n",
      "awards,live,country,dance,pop,song,new,official,video,music\n",
      "\n",
      "Cluster 8\n",
      "brown,people,love,grace,feat,pop,alternative,dance,records,columbia\n",
      "\n",
      "Cluster 9\n",
      "motion,comic,mo,commercial,marvel,slow,panther,bowl,super,black\n",
      "\n",
      "Cluster 10\n",
      "kitchen,challenge,cook,make,chef,chocolate,cake,cooking,recipe,food\n",
      "\n",
      "Cluster 11\n",
      "jokes,cbs,celeb,famous,joke,night,corden,funny,colbert,late\n",
      "\n",
      "Cluster 12\n",
      "degeneres,online,trailer,season,television,movies,tv,netflix,series,ellen\n",
      "\n",
      "Cluster 13\n",
      "kelly,clarkson,charlie,american,puth,idol,ed,sing,ted,voice\n",
      "\n",
      "Cluster 14\n",
      "technology,random,space,physics,education,apple,tech,green,iphone,science\n",
      "\n",
      "Cluster 15\n",
      "espn,sports,lebron,highlights,fortnite,games,dude,basketball,nba,game\n",
      "\n",
      "Cluster 16\n",
      "michael,prince,pets,cute,kittens,animals,simon,kitten,cats,cat\n",
      "\n",
      "Cluster 17\n",
      "education,alex,school,nerdwriter,clark,channel,noggin,life,smith,youtube\n",
      "\n",
      "Cluster 18\n",
      "love,rock,feat,universal,alternative,island,label,rca,pop,records\n",
      "\n",
      "Cluster 19\n",
      "stocking,shotsstudios,lelepons,hannahstocking,rudymancuso,alesso,anitta,inanna,sarkis,anwar\n"
     ]
    }
   ],
   "source": [
    "def get_top_keywords(data, clusters, labels, n_terms):\n",
    "    df = pd.DataFrame(data.todense()).groupby(clusters).mean()\n",
    "    \n",
    "    for i,r in df.iterrows():\n",
    "        print('\\nCluster {}'.format(i))\n",
    "        print(','.join([labels[t] for t in np.argsort(r)[-n_terms:]]))\n",
    "            \n",
    "get_top_keywords(text_cleaned_tags, cluster_array, tfidf_cleaned_tags.get_feature_names(), 10)"
   ]
  },
  {
   "cell_type": "code",
   "execution_count": 0,
   "metadata": {
    "colab": {},
    "colab_type": "code",
    "id": "kW6P3tWRKZuY"
   },
   "outputs": [],
   "source": [
    "for i in range(0,cluster_array.size):\n",
    "  print(str(i) + ' ' + str(cluster_array[i]))"
   ]
  },
  {
   "cell_type": "code",
   "execution_count": 0,
   "metadata": {
    "colab": {
     "base_uri": "https://localhost:8080/",
     "height": 238
    },
    "colab_type": "code",
    "id": "Y8NbSEyGBwTQ",
    "outputId": "55606a36-9036-41dc-c4ab-fc58a6ed30e3"
   },
   "outputs": [
    {
     "name": "stdout",
     "output_type": "stream",
     "text": [
      "Given: title                   That Time It Rained for Two Million Years\n",
      "cleaned_tags    dinosaurs dinos paleo paleontology scishow eon...\n",
      "views                                                     1925345\n",
      "likes                                                       46673\n",
      "description     Check out our NEW POSTER: https://store.dftba....\n",
      "Name: 40927, dtype: object\n",
      "\n",
      "Prediction: title                                      How Zero-G Planes Work\n",
      "cleaned_tags    tom scott tomscott built for science zero-g ze...\n",
      "views                                                      283505\n",
      "likes                                                       14397\n",
      "description     The European Space Agency offered me a seat on...\n",
      "Name: 6795, dtype: object\n"
     ]
    }
   ],
   "source": [
    "# examples of recommendations\n",
    "import random\n",
    "\n",
    "def recommend_video(row_of_video):\n",
    "  cluster_number = cluster_array[row_of_video]\n",
    "  rand_number = random.randint(0,cluster_array.size-1)\n",
    "  while cluster_array[rand_number] != cluster_number:\n",
    "    rand_number = random.randint(0,cluster_array.size-1)\n",
    "  return data.iloc[rand_number]\n",
    "\n",
    "print( \"Given: \" + str(data.iloc[39393]))\n",
    "print()\n",
    "print( 'Prediction: ' + str(recommend_video(39393)))"
   ]
  },
  {
   "cell_type": "code",
   "execution_count": 0,
   "metadata": {
    "colab": {
     "base_uri": "https://localhost:8080/",
     "height": 238
    },
    "colab_type": "code",
    "id": "OwYDj4EKLaUk",
    "outputId": "6575753b-b17b-47a0-b972-efb95a7752e3"
   },
   "outputs": [
    {
     "name": "stdout",
     "output_type": "stream",
     "text": [
      "Given: title           The History of Fortnite Battle Royale - Did Yo...\n",
      "cleaned_tags    fortnite fortnite pc fortnite battle royale ba...\n",
      "views                                                      324219\n",
      "likes                                                        7840\n",
      "description     Thanks to Skillshare for sponsoring this video...\n",
      "Name: 40919, dtype: object\n",
      "\n",
      "Prediction: title                       #boogiedown CONTEST WINNERS ANNOUNCED\n",
      "cleaned_tags    fortnite epic games pc ps4 xbox one battle roy...\n",
      "views                                                     2974384\n",
      "likes                                                       99236\n",
      "description     Presenting our top winners for the #boogiedown...\n",
      "Name: 30576, dtype: object\n"
     ]
    }
   ],
   "source": [
    "def show_prediction(row_of_video):\n",
    "  video = recommend_video(row_of_video)\n",
    "  print( \"Given: \" + str(data.iloc[row_of_video]))\n",
    "  print()\n",
    "  print( 'Prediction: ' + str(video))\n",
    "\n",
    "show_prediction(39385)"
   ]
  },
  {
   "cell_type": "code",
   "execution_count": 0,
   "metadata": {
    "colab": {},
    "colab_type": "code",
    "id": "HfM9X-x-x2G4"
   },
   "outputs": [],
   "source": [
    "# we can ignore video_id, trending_date, publish_time, thumbnail, comments_disabled, ratings_disabled\n",
    "# remove all video_error_or_removed?\n",
    "# tokenize tags\n",
    "# what to do with title?\n",
    "\n",
    "# collect all of the tags, and make them lower case\n",
    "\n",
    "all_tags = set([])\n",
    "sum = 0\n",
    "\n",
    "def set_of_tags(x : str):\n",
    "  x = x.casefold()\n",
    "  x_without_quotes = row.replace('\\\"',\"\")\n",
    "  return set(x_without_quotes.split(sep='|'))\n",
    "\n",
    "for row in data['tags']:\n",
    "  row = row.casefold()\n",
    "  tags_in_row = set_of_tags(row)\n",
    "  sum += len(tags_in_row)\n",
    "  all_tags.update(tags_in_row)\n",
    "\n",
    "# sum: 804721, total elements: 51570\n",
    "# This tells us that there are a lot of tags, but many of them repeat\n",
    "# This is good news for clustering.\n",
    "print(\"sum: \" + str(sum) + \", total elements: \" + str(len(all_tags)))\n",
    "\n",
    "all_tags"
   ]
  },
  {
   "cell_type": "code",
   "execution_count": 0,
   "metadata": {
    "colab": {},
    "colab_type": "code",
    "id": "rR8w7QBgPi6k"
   },
   "outputs": [],
   "source": [
    "# intuition → the videos with the most tags in common are good recommendations\n",
    "# this serves as a control group?\n",
    "\n",
    "\n",
    "def video_similarity(video1_tags : set, video2_tags : set):\n",
    "  matching_tags = video1_tags.intersection(video2_tags)\n",
    "  return len(matching_tags)\n",
    "\n",
    "#if (video_similarity(set_of_all_tags, set_of_all_tags) == len(set_of_all_tags)):\n",
    "#  print(\"yay!\")\n",
    "\n",
    "def recommend(input_video_tags : set):\n",
    "  return None"
   ]
  }
 ],
 "metadata": {
  "accelerator": "GPU",
  "colab": {
   "collapsed_sections": [],
   "name": "WAFChallenge.ipynb",
   "provenance": []
  },
  "kernelspec": {
   "display_name": "Python 3",
   "language": "python",
   "name": "python3"
  },
  "language_info": {
   "codemirror_mode": {
    "name": "ipython",
    "version": 3
   },
   "file_extension": ".py",
   "mimetype": "text/x-python",
   "name": "python",
   "nbconvert_exporter": "python",
   "pygments_lexer": "ipython3",
   "version": "3.7.2"
  }
 },
 "nbformat": 4,
 "nbformat_minor": 1
}
